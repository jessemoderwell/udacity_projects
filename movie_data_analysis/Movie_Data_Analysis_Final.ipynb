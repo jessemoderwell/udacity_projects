{
 "cells": [
  {
   "cell_type": "markdown",
   "metadata": {},
   "source": [
    "\n",
    "# Project: Movie Analysis \n",
    "\n",
    "## Table of Contents\n",
    "<ul>\n",
    "<li><a href=\"#intro\">Introduction</a></li>\n",
    "<li><a href=\"#wrangling\">Data Wrangling</a></li>\n",
    "<li><a href=\"#eda\">Exploratory Data Analysis</a></li>\n",
    "<li><a href=\"#conclusions\">Conclusions</a></li>\n",
    "</ul>"
   ]
  },
  {
   "cell_type": "markdown",
   "metadata": {},
   "source": [
    "<a id='intro'></a>\n",
    "# <u>Introduction</u>\n",
    "\n",
    "> In this project, I selected a dataset with information on movies registered to \"The Movie Database\" provided by Udacity. While looking through the data and checking out some of the features provided for each movie, I saw that in the keywords section there were several tags indicating that a movie was an adaption, like 'based on novel' or 'based on play'. I decided it might be interesting to explore how movies apdations from other mediums performed in categories like popularity, ratings, and profit. I also noticed that some production companies showed up many times, like Universal Pictures, and some only had one movie in the database. I was interested to know if there was any correlation between the number of movies a company made and the average profit per movie. Basically, I wanted to know if big production companies that make many movies a year were better at turning a profit due to their resources and experience. "
   ]
  },
  {
   "cell_type": "markdown",
   "metadata": {},
   "source": [
    "# <u>Specific questions to ask about the data:</u>\n",
    "### #1. How do movies adapted from other mediums differ in performance on the basis of average profit, rating, and popularity?\n",
    "\n",
    "### #2.  Is there a positive correlation between the number of movies made by a production company and their tendency to make profitable movies?"
   ]
  },
  {
   "cell_type": "markdown",
   "metadata": {},
   "source": [
    "<a id='wrangling'></a>\n",
    "# <u>Data Wrangling</u>"
   ]
  },
  {
   "cell_type": "markdown",
   "metadata": {},
   "source": [
    "### Import the necessary packages for the project"
   ]
  },
  {
   "cell_type": "code",
   "execution_count": 21,
   "metadata": {},
   "outputs": [],
   "source": [
    "import pandas as pd\n",
    "import numpy as np\n",
    "import matplotlib.pyplot as plt\n",
    "% matplotlib inline\n",
    "import seaborn as sns\n",
    "import scipy"
   ]
  },
  {
   "cell_type": "markdown",
   "metadata": {},
   "source": [
    "### Load Data and use .info() and .head() to get a good sense of the features and values with which we are working"
   ]
  },
  {
   "cell_type": "code",
   "execution_count": 22,
   "metadata": {
    "scrolled": true
   },
   "outputs": [
    {
     "name": "stdout",
     "output_type": "stream",
     "text": [
      "<class 'pandas.core.frame.DataFrame'>\n",
      "RangeIndex: 10866 entries, 0 to 10865\n",
      "Data columns (total 21 columns):\n",
      "id                      10866 non-null int64\n",
      "imdb_id                 10856 non-null object\n",
      "popularity              10866 non-null float64\n",
      "budget                  10866 non-null int64\n",
      "revenue                 10866 non-null int64\n",
      "original_title          10866 non-null object\n",
      "cast                    10790 non-null object\n",
      "homepage                2936 non-null object\n",
      "director                10822 non-null object\n",
      "tagline                 8042 non-null object\n",
      "keywords                9373 non-null object\n",
      "overview                10862 non-null object\n",
      "runtime                 10866 non-null int64\n",
      "genres                  10843 non-null object\n",
      "production_companies    9836 non-null object\n",
      "release_date            10866 non-null object\n",
      "vote_count              10866 non-null int64\n",
      "vote_average            10866 non-null float64\n",
      "release_year            10866 non-null int64\n",
      "budget_adj              10866 non-null float64\n",
      "revenue_adj             10866 non-null float64\n",
      "dtypes: float64(4), int64(6), object(11)\n",
      "memory usage: 1.7+ MB\n"
     ]
    }
   ],
   "source": [
    "df = pd.read_csv('tmdb-movies.csv')\n",
    "df.info()"
   ]
  },
  {
   "cell_type": "code",
   "execution_count": 23,
   "metadata": {},
   "outputs": [
    {
     "data": {
      "text/html": [
       "<div>\n",
       "<style scoped>\n",
       "    .dataframe tbody tr th:only-of-type {\n",
       "        vertical-align: middle;\n",
       "    }\n",
       "\n",
       "    .dataframe tbody tr th {\n",
       "        vertical-align: top;\n",
       "    }\n",
       "\n",
       "    .dataframe thead th {\n",
       "        text-align: right;\n",
       "    }\n",
       "</style>\n",
       "<table border=\"1\" class=\"dataframe\">\n",
       "  <thead>\n",
       "    <tr style=\"text-align: right;\">\n",
       "      <th></th>\n",
       "      <th>id</th>\n",
       "      <th>imdb_id</th>\n",
       "      <th>popularity</th>\n",
       "      <th>budget</th>\n",
       "      <th>revenue</th>\n",
       "      <th>original_title</th>\n",
       "      <th>cast</th>\n",
       "      <th>homepage</th>\n",
       "      <th>director</th>\n",
       "      <th>tagline</th>\n",
       "      <th>...</th>\n",
       "      <th>overview</th>\n",
       "      <th>runtime</th>\n",
       "      <th>genres</th>\n",
       "      <th>production_companies</th>\n",
       "      <th>release_date</th>\n",
       "      <th>vote_count</th>\n",
       "      <th>vote_average</th>\n",
       "      <th>release_year</th>\n",
       "      <th>budget_adj</th>\n",
       "      <th>revenue_adj</th>\n",
       "    </tr>\n",
       "  </thead>\n",
       "  <tbody>\n",
       "    <tr>\n",
       "      <th>0</th>\n",
       "      <td>135397</td>\n",
       "      <td>tt0369610</td>\n",
       "      <td>32.985763</td>\n",
       "      <td>150000000</td>\n",
       "      <td>1513528810</td>\n",
       "      <td>Jurassic World</td>\n",
       "      <td>Chris Pratt|Bryce Dallas Howard|Irrfan Khan|Vi...</td>\n",
       "      <td>http://www.jurassicworld.com/</td>\n",
       "      <td>Colin Trevorrow</td>\n",
       "      <td>The park is open.</td>\n",
       "      <td>...</td>\n",
       "      <td>Twenty-two years after the events of Jurassic ...</td>\n",
       "      <td>124</td>\n",
       "      <td>Action|Adventure|Science Fiction|Thriller</td>\n",
       "      <td>Universal Studios|Amblin Entertainment|Legenda...</td>\n",
       "      <td>6/9/15</td>\n",
       "      <td>5562</td>\n",
       "      <td>6.5</td>\n",
       "      <td>2015</td>\n",
       "      <td>1.379999e+08</td>\n",
       "      <td>1.392446e+09</td>\n",
       "    </tr>\n",
       "    <tr>\n",
       "      <th>1</th>\n",
       "      <td>76341</td>\n",
       "      <td>tt1392190</td>\n",
       "      <td>28.419936</td>\n",
       "      <td>150000000</td>\n",
       "      <td>378436354</td>\n",
       "      <td>Mad Max: Fury Road</td>\n",
       "      <td>Tom Hardy|Charlize Theron|Hugh Keays-Byrne|Nic...</td>\n",
       "      <td>http://www.madmaxmovie.com/</td>\n",
       "      <td>George Miller</td>\n",
       "      <td>What a Lovely Day.</td>\n",
       "      <td>...</td>\n",
       "      <td>An apocalyptic story set in the furthest reach...</td>\n",
       "      <td>120</td>\n",
       "      <td>Action|Adventure|Science Fiction|Thriller</td>\n",
       "      <td>Village Roadshow Pictures|Kennedy Miller Produ...</td>\n",
       "      <td>5/13/15</td>\n",
       "      <td>6185</td>\n",
       "      <td>7.1</td>\n",
       "      <td>2015</td>\n",
       "      <td>1.379999e+08</td>\n",
       "      <td>3.481613e+08</td>\n",
       "    </tr>\n",
       "    <tr>\n",
       "      <th>2</th>\n",
       "      <td>262500</td>\n",
       "      <td>tt2908446</td>\n",
       "      <td>13.112507</td>\n",
       "      <td>110000000</td>\n",
       "      <td>295238201</td>\n",
       "      <td>Insurgent</td>\n",
       "      <td>Shailene Woodley|Theo James|Kate Winslet|Ansel...</td>\n",
       "      <td>http://www.thedivergentseries.movie/#insurgent</td>\n",
       "      <td>Robert Schwentke</td>\n",
       "      <td>One Choice Can Destroy You</td>\n",
       "      <td>...</td>\n",
       "      <td>Beatrice Prior must confront her inner demons ...</td>\n",
       "      <td>119</td>\n",
       "      <td>Adventure|Science Fiction|Thriller</td>\n",
       "      <td>Summit Entertainment|Mandeville Films|Red Wago...</td>\n",
       "      <td>3/18/15</td>\n",
       "      <td>2480</td>\n",
       "      <td>6.3</td>\n",
       "      <td>2015</td>\n",
       "      <td>1.012000e+08</td>\n",
       "      <td>2.716190e+08</td>\n",
       "    </tr>\n",
       "    <tr>\n",
       "      <th>3</th>\n",
       "      <td>140607</td>\n",
       "      <td>tt2488496</td>\n",
       "      <td>11.173104</td>\n",
       "      <td>200000000</td>\n",
       "      <td>2068178225</td>\n",
       "      <td>Star Wars: The Force Awakens</td>\n",
       "      <td>Harrison Ford|Mark Hamill|Carrie Fisher|Adam D...</td>\n",
       "      <td>http://www.starwars.com/films/star-wars-episod...</td>\n",
       "      <td>J.J. Abrams</td>\n",
       "      <td>Every generation has a story.</td>\n",
       "      <td>...</td>\n",
       "      <td>Thirty years after defeating the Galactic Empi...</td>\n",
       "      <td>136</td>\n",
       "      <td>Action|Adventure|Science Fiction|Fantasy</td>\n",
       "      <td>Lucasfilm|Truenorth Productions|Bad Robot</td>\n",
       "      <td>12/15/15</td>\n",
       "      <td>5292</td>\n",
       "      <td>7.5</td>\n",
       "      <td>2015</td>\n",
       "      <td>1.839999e+08</td>\n",
       "      <td>1.902723e+09</td>\n",
       "    </tr>\n",
       "    <tr>\n",
       "      <th>4</th>\n",
       "      <td>168259</td>\n",
       "      <td>tt2820852</td>\n",
       "      <td>9.335014</td>\n",
       "      <td>190000000</td>\n",
       "      <td>1506249360</td>\n",
       "      <td>Furious 7</td>\n",
       "      <td>Vin Diesel|Paul Walker|Jason Statham|Michelle ...</td>\n",
       "      <td>http://www.furious7.com/</td>\n",
       "      <td>James Wan</td>\n",
       "      <td>Vengeance Hits Home</td>\n",
       "      <td>...</td>\n",
       "      <td>Deckard Shaw seeks revenge against Dominic Tor...</td>\n",
       "      <td>137</td>\n",
       "      <td>Action|Crime|Thriller</td>\n",
       "      <td>Universal Pictures|Original Film|Media Rights ...</td>\n",
       "      <td>4/1/15</td>\n",
       "      <td>2947</td>\n",
       "      <td>7.3</td>\n",
       "      <td>2015</td>\n",
       "      <td>1.747999e+08</td>\n",
       "      <td>1.385749e+09</td>\n",
       "    </tr>\n",
       "  </tbody>\n",
       "</table>\n",
       "<p>5 rows × 21 columns</p>\n",
       "</div>"
      ],
      "text/plain": [
       "       id    imdb_id  popularity     budget     revenue  \\\n",
       "0  135397  tt0369610   32.985763  150000000  1513528810   \n",
       "1   76341  tt1392190   28.419936  150000000   378436354   \n",
       "2  262500  tt2908446   13.112507  110000000   295238201   \n",
       "3  140607  tt2488496   11.173104  200000000  2068178225   \n",
       "4  168259  tt2820852    9.335014  190000000  1506249360   \n",
       "\n",
       "                 original_title  \\\n",
       "0                Jurassic World   \n",
       "1            Mad Max: Fury Road   \n",
       "2                     Insurgent   \n",
       "3  Star Wars: The Force Awakens   \n",
       "4                     Furious 7   \n",
       "\n",
       "                                                cast  \\\n",
       "0  Chris Pratt|Bryce Dallas Howard|Irrfan Khan|Vi...   \n",
       "1  Tom Hardy|Charlize Theron|Hugh Keays-Byrne|Nic...   \n",
       "2  Shailene Woodley|Theo James|Kate Winslet|Ansel...   \n",
       "3  Harrison Ford|Mark Hamill|Carrie Fisher|Adam D...   \n",
       "4  Vin Diesel|Paul Walker|Jason Statham|Michelle ...   \n",
       "\n",
       "                                            homepage          director  \\\n",
       "0                      http://www.jurassicworld.com/   Colin Trevorrow   \n",
       "1                        http://www.madmaxmovie.com/     George Miller   \n",
       "2     http://www.thedivergentseries.movie/#insurgent  Robert Schwentke   \n",
       "3  http://www.starwars.com/films/star-wars-episod...       J.J. Abrams   \n",
       "4                           http://www.furious7.com/         James Wan   \n",
       "\n",
       "                         tagline      ...       \\\n",
       "0              The park is open.      ...        \n",
       "1             What a Lovely Day.      ...        \n",
       "2     One Choice Can Destroy You      ...        \n",
       "3  Every generation has a story.      ...        \n",
       "4            Vengeance Hits Home      ...        \n",
       "\n",
       "                                            overview runtime  \\\n",
       "0  Twenty-two years after the events of Jurassic ...     124   \n",
       "1  An apocalyptic story set in the furthest reach...     120   \n",
       "2  Beatrice Prior must confront her inner demons ...     119   \n",
       "3  Thirty years after defeating the Galactic Empi...     136   \n",
       "4  Deckard Shaw seeks revenge against Dominic Tor...     137   \n",
       "\n",
       "                                      genres  \\\n",
       "0  Action|Adventure|Science Fiction|Thriller   \n",
       "1  Action|Adventure|Science Fiction|Thriller   \n",
       "2         Adventure|Science Fiction|Thriller   \n",
       "3   Action|Adventure|Science Fiction|Fantasy   \n",
       "4                      Action|Crime|Thriller   \n",
       "\n",
       "                                production_companies release_date vote_count  \\\n",
       "0  Universal Studios|Amblin Entertainment|Legenda...       6/9/15       5562   \n",
       "1  Village Roadshow Pictures|Kennedy Miller Produ...      5/13/15       6185   \n",
       "2  Summit Entertainment|Mandeville Films|Red Wago...      3/18/15       2480   \n",
       "3          Lucasfilm|Truenorth Productions|Bad Robot     12/15/15       5292   \n",
       "4  Universal Pictures|Original Film|Media Rights ...       4/1/15       2947   \n",
       "\n",
       "   vote_average  release_year    budget_adj   revenue_adj  \n",
       "0           6.5          2015  1.379999e+08  1.392446e+09  \n",
       "1           7.1          2015  1.379999e+08  3.481613e+08  \n",
       "2           6.3          2015  1.012000e+08  2.716190e+08  \n",
       "3           7.5          2015  1.839999e+08  1.902723e+09  \n",
       "4           7.3          2015  1.747999e+08  1.385749e+09  \n",
       "\n",
       "[5 rows x 21 columns]"
      ]
     },
     "execution_count": 23,
     "metadata": {},
     "output_type": "execute_result"
    }
   ],
   "source": [
    "df.head()"
   ]
  },
  {
   "cell_type": "markdown",
   "metadata": {},
   "source": [
    ">As you can see above, this dataset has several columns that include multiple strings separated by a '|' character. The only instances of these columns relevant to the questions I posed are the 'keywords' and 'production_companies' columns. For keywords, I will expand these out to make the DataFrame searchable by a specific keyword, like the type of film adaptation. For the production companies column, I will create a new DataFrame with a row for each production per movie"
   ]
  },
  {
   "cell_type": "markdown",
   "metadata": {},
   "source": [
    "### Check to see how many movies have '0' listed as budget or revenue, as these may be errors"
   ]
  },
  {
   "cell_type": "code",
   "execution_count": 24,
   "metadata": {},
   "outputs": [
    {
     "data": {
      "text/plain": [
       "6016"
      ]
     },
     "execution_count": 24,
     "metadata": {},
     "output_type": "execute_result"
    }
   ],
   "source": [
    "df.query('revenue_adj == 0' or 'budget_adj == 0').shape[0]"
   ]
  },
  {
   "cell_type": "markdown",
   "metadata": {},
   "source": [
    "## <u>General Properties and Shortcomings of the dataset</u>\n",
    "\n",
    ">Not every movie listed has a value for keyword or production company, as the movies missing a keyword value is about 1500 and the movies missing a production companies value is about 1000 out of our approximately 10500 movies. This will make our data a bit less reliable, but will still provide a good overall indication\n",
    "\n",
    ">While we have values for all rows in columns 'popularity', 'vote_average', 'budget_adj' and 'revenue_adj', the number of movies with '0' as the value for either adjusted revenue or adjusted budget is 6016, over half of all the movies in our dataset. After briefly looking through these rows, I have concluded that this must be an error, as some movies have a A-list actors and probably did cost and earn a significant amount of money. This is going to be quite limiting, but if we replace these 0's with the average of the non-zero values in these columns, it may help our analysis and charts to be more accurate"
   ]
  },
  {
   "cell_type": "markdown",
   "metadata": {},
   "source": [
    "### Impute value in rows where adjusted revenue or budget equals zero with the average of non-zero values. Do this by querying the DataFrame to get the mean where the budget/ revenue is not equal to zero, then use the .replace() function to replace the zero's in each column with the correct mean"
   ]
  },
  {
   "cell_type": "code",
   "execution_count": 25,
   "metadata": {},
   "outputs": [
    {
     "data": {
      "text/plain": [
       "0"
      ]
     },
     "execution_count": 25,
     "metadata": {},
     "output_type": "execute_result"
    }
   ],
   "source": [
    "budget_mean = df.query('budget_adj != 0')['budget_adj'].mean()\n",
    "revenue_mean = df.query('revenue_adj != 0')['revenue_adj'].mean()\n",
    "df = df.replace({'budget_adj':0}, budget_mean)\n",
    "df = df.replace({'revenue_adj':0}, revenue_mean)\n",
    "df.query('revenue_adj == 0' or 'budget_adj == 0').shape[0]"
   ]
  },
  {
   "cell_type": "markdown",
   "metadata": {},
   "source": [
    "### Add column for profit (adjusted for inflation) called profit_adj, taken from budget_adj and revenue_adj, which are already adjusted for inflation"
   ]
  },
  {
   "cell_type": "code",
   "execution_count": 26,
   "metadata": {},
   "outputs": [
    {
     "data": {
      "text/plain": [
       "0    1.254446e+09\n",
       "1    2.101614e+08\n",
       "2    1.704191e+08\n",
       "3    1.718723e+09\n",
       "4    1.210949e+09\n",
       "Name: profit_adj, dtype: float64"
      ]
     },
     "execution_count": 26,
     "metadata": {},
     "output_type": "execute_result"
    }
   ],
   "source": [
    "df['profit_adj'] = df['revenue_adj'] - df['budget_adj']\n",
    "df.profit_adj.head()"
   ]
  },
  {
   "cell_type": "markdown",
   "metadata": {},
   "source": [
    "## Data Cleaning"
   ]
  },
  {
   "cell_type": "markdown",
   "metadata": {},
   "source": [
    "### Expand keyword column into 5 columns in a new DataFrame and then insert it back into the the original DataFrame to make searchable using the .str.split() function"
   ]
  },
  {
   "cell_type": "code",
   "execution_count": 27,
   "metadata": {
    "scrolled": true
   },
   "outputs": [
    {
     "data": {
      "text/plain": [
       "(10866, 5)"
      ]
     },
     "execution_count": 27,
     "metadata": {},
     "output_type": "execute_result"
    }
   ],
   "source": [
    "split_keywords = df['keywords'].str.split('|', expand = True)\n",
    "split_keywords.shape"
   ]
  },
  {
   "cell_type": "code",
   "execution_count": 28,
   "metadata": {},
   "outputs": [],
   "source": [
    "df[['keyword_1','keyword_2','keyword_3','keyword_4', 'keyword_5']] = split_keywords"
   ]
  },
  {
   "cell_type": "markdown",
   "metadata": {},
   "source": [
    "### Drop original keyword row since it has been expanded into 5 rows"
   ]
  },
  {
   "cell_type": "code",
   "execution_count": 29,
   "metadata": {},
   "outputs": [],
   "source": [
    "df = df.drop('keywords', axis = 1)"
   ]
  },
  {
   "cell_type": "markdown",
   "metadata": {},
   "source": [
    "<a id='eda'></a>\n",
    "# <u>Exploratory Data Analysis</u>\n",
    "\n",
    "## Q: **How do movies adapted from other mediums differ in performance on the basis of average profit, rating, and popularity?**"
   ]
  },
  {
   "cell_type": "markdown",
   "metadata": {},
   "source": [
    "### Use split on keywords column, then mask and .value_counts to check DataFrame for the most frequent types of adaptation to film"
   ]
  },
  {
   "cell_type": "code",
   "execution_count": 30,
   "metadata": {
    "scrolled": true
   },
   "outputs": [],
   "source": [
    "keywords = pd.Series()\n",
    "for c in range(len(split_keywords.columns)):\n",
    "    keywords = keywords.append(split_keywords[c])"
   ]
  },
  {
   "cell_type": "code",
   "execution_count": 31,
   "metadata": {
    "scrolled": true
   },
   "outputs": [
    {
     "data": {
      "text/plain": [
       "based on novel         278\n",
       "based on true story     47\n",
       "based on comic book     39\n",
       "based on tv series      29\n",
       "based on video game     22\n",
       "based on play           15\n",
       "dtype: int64"
      ]
     },
     "execution_count": 31,
     "metadata": {},
     "output_type": "execute_result"
    }
   ],
   "source": [
    "keywords[keywords.str[0:8] == 'based on'].value_counts().head(6)"
   ]
  },
  {
   "cell_type": "markdown",
   "metadata": {},
   "source": [
    "### Since 'based on a true story' is not really an adaptation to film, we'll narrow our search to the other five listed"
   ]
  },
  {
   "cell_type": "markdown",
   "metadata": {},
   "source": [
    "### Create a function that returns the means of popularity, new DataFrames for each type of adaptation"
   ]
  },
  {
   "cell_type": "code",
   "execution_count": 32,
   "metadata": {},
   "outputs": [],
   "source": [
    "def get_adaptation_means(medium, data):\n",
    "    medium_means = pd.Series(index = ['popularity_mean', 'vote_average_mean', 'profit_adj_mean'])\n",
    "    medium_df = pd.DataFrame()\n",
    "    if medium == 'overall':\n",
    "        medium_df = data\n",
    "    else:\n",
    "        for i in range(1, 6):\n",
    "             medium_df = medium_df.append(data[data['keyword_{}'.format(i)] == 'based on {}'.format(medium)])\n",
    "    \n",
    "    medium_means.loc['popularity_mean'] = medium_df.popularity.mean()\n",
    "    medium_means.loc['vote_average_mean'] = medium_df.vote_average.mean()\n",
    "    medium_means.loc['profit_adj_mean'] = medium_df.profit_adj.mean()\n",
    "    return medium_means"
   ]
  },
  {
   "cell_type": "markdown",
   "metadata": {},
   "source": [
    "### Put all popularity, rating, and profit means for all adaptation types into a new DataFrame"
   ]
  },
  {
   "cell_type": "code",
   "execution_count": 33,
   "metadata": {},
   "outputs": [
    {
     "data": {
      "text/html": [
       "<div>\n",
       "<style scoped>\n",
       "    .dataframe tbody tr th:only-of-type {\n",
       "        vertical-align: middle;\n",
       "    }\n",
       "\n",
       "    .dataframe tbody tr th {\n",
       "        vertical-align: top;\n",
       "    }\n",
       "\n",
       "    .dataframe thead th {\n",
       "        text-align: right;\n",
       "    }\n",
       "</style>\n",
       "<table border=\"1\" class=\"dataframe\">\n",
       "  <thead>\n",
       "    <tr style=\"text-align: right;\">\n",
       "      <th></th>\n",
       "      <th>novel</th>\n",
       "      <th>comic book</th>\n",
       "      <th>tv series</th>\n",
       "      <th>video game</th>\n",
       "      <th>play</th>\n",
       "      <th>overall</th>\n",
       "    </tr>\n",
       "  </thead>\n",
       "  <tbody>\n",
       "    <tr>\n",
       "      <th>popularity_mean</th>\n",
       "      <td>1.188261e+00</td>\n",
       "      <td>1.050024e+00</td>\n",
       "      <td>7.317710e-01</td>\n",
       "      <td>5.644403e-01</td>\n",
       "      <td>4.431209e-01</td>\n",
       "      <td>6.464410e-01</td>\n",
       "    </tr>\n",
       "    <tr>\n",
       "      <th>vote_average_mean</th>\n",
       "      <td>6.316906e+00</td>\n",
       "      <td>6.315385e+00</td>\n",
       "      <td>5.768966e+00</td>\n",
       "      <td>4.436364e+00</td>\n",
       "      <td>6.353333e+00</td>\n",
       "      <td>5.974922e+00</td>\n",
       "    </tr>\n",
       "    <tr>\n",
       "      <th>profit_adj_mean</th>\n",
       "      <td>9.767828e+07</td>\n",
       "      <td>1.060695e+08</td>\n",
       "      <td>6.595166e+07</td>\n",
       "      <td>5.422284e+07</td>\n",
       "      <td>1.246111e+08</td>\n",
       "      <td>7.818962e+07</td>\n",
       "    </tr>\n",
       "  </tbody>\n",
       "</table>\n",
       "</div>"
      ],
      "text/plain": [
       "                          novel    comic book     tv series    video game  \\\n",
       "popularity_mean    1.188261e+00  1.050024e+00  7.317710e-01  5.644403e-01   \n",
       "vote_average_mean  6.316906e+00  6.315385e+00  5.768966e+00  4.436364e+00   \n",
       "profit_adj_mean    9.767828e+07  1.060695e+08  6.595166e+07  5.422284e+07   \n",
       "\n",
       "                           play       overall  \n",
       "popularity_mean    4.431209e-01  6.464410e-01  \n",
       "vote_average_mean  6.353333e+00  5.974922e+00  \n",
       "profit_adj_mean    1.246111e+08  7.818962e+07  "
      ]
     },
     "execution_count": 33,
     "metadata": {},
     "output_type": "execute_result"
    }
   ],
   "source": [
    "mediums = ['novel','comic book', 'tv series', 'video game', 'play', 'overall']\n",
    "adaptation_means = pd.DataFrame(index = ['popularity_mean', 'vote_average_mean', 'profit_adj_mean'])\n",
    "for c in mediums:\n",
    "    adaptation_means[c] = get_adaptation_means(c, df)\n",
    "adaptation_means"
   ]
  },
  {
   "cell_type": "markdown",
   "metadata": {},
   "source": [
    "### Plot how the different mediums stack up in terms of mean profit, rating, and popularity"
   ]
  },
  {
   "cell_type": "code",
   "execution_count": 34,
   "metadata": {
    "scrolled": true
   },
   "outputs": [
    {
     "data": {
      "image/png": "[encoded data removed]",
      "text/plain": [
       "<matplotlib.figure.Figure at 0x7f002cbfa588>"
      ]
     },
     "metadata": {
      "needs_background": "light"
     },
     "output_type": "display_data"
    }
   ],
   "source": [
    "plt.subplots(figsize = (7,7))\n",
    "plt.bar(adaptation_means.columns, adaptation_means.loc['profit_adj_mean'])\n",
    "plt.xticks(rotation = 'vertical')\n",
    "plt.xlabel('film adaptation type')\n",
    "plt.ylabel('average profit for film (dollars in hundred millions)')\n",
    "plt.title('Average profit for film across medium adaptations');"
   ]
  },
  {
   "cell_type": "markdown",
   "metadata": {},
   "source": [
    ">As you can see, films based on plays, novels, and comic books earned a higher profit per average movie than the overall average movie, while tv series and video game movie adaptations typically earn less than the overall average. "
   ]
  },
  {
   "cell_type": "code",
   "execution_count": 35,
   "metadata": {
    "scrolled": true
   },
   "outputs": [
    {
     "data": {
      "image/png": "[encoded data removed]",
      "text/plain": [
       "<matplotlib.figure.Figure at 0x7f002c997198>"
      ]
     },
     "metadata": {
      "needs_background": "light"
     },
     "output_type": "display_data"
    }
   ],
   "source": [
    "plt.subplots(figsize = (7,7))\n",
    "plt.bar(adaptation_means.columns, adaptation_means.loc['vote_average_mean'])\n",
    "plt.xticks(rotation = 'vertical')\n",
    "plt.xlabel('film adaptation type')\n",
    "plt.ylabel('average film rating (based out of 10)')\n",
    "plt.title('Average film rating across medium adaptations');"
   ]
  },
  {
   "cell_type": "markdown",
   "metadata": {},
   "source": [
    "> The mean movie rating for each medium is actually similar to the overall average, except for movies based on video games, which tradtionally are rated lower."
   ]
  },
  {
   "cell_type": "code",
   "execution_count": 36,
   "metadata": {
    "scrolled": true
   },
   "outputs": [
    {
     "data": {
      "image/png": "[encoded data removed]",
      "text/plain": [
       "<matplotlib.figure.Figure at 0x7f0027a91b00>"
      ]
     },
     "metadata": {
      "needs_background": "light"
     },
     "output_type": "display_data"
    }
   ],
   "source": [
    "plt.subplots(figsize = (7,7))\n",
    "plt.bar(adaptation_means.columns, adaptation_means.loc['popularity_mean'])\n",
    "plt.xticks(rotation = 'vertical')\n",
    "plt.xlabel('film adaptation type')\n",
    "plt.ylabel('average popularity')\n",
    "plt.title('Average popularity across medium adaptations');"
   ]
  },
  {
   "cell_type": "markdown",
   "metadata": {},
   "source": [
    "> Interestingly, while the average movie based on a play was higher in terms of profit and rating, this visualization shows that it was lower than the overall average in terms of popularity. Novel and comic book adaptations were rated much higher on average popularity than the overall."
   ]
  },
  {
   "cell_type": "markdown",
   "metadata": {},
   "source": [
    "## Q: Is there a positive correlation between the number of movies made by a production company and their tendency to make profitable movies?"
   ]
  },
  {
   "cell_type": "markdown",
   "metadata": {},
   "source": [
    "### Create a DataFrame with new rows for each production company per movie, including the production company and profit for each movie. This is done by using a nested for loop to create one row for each separate production company and then use .dropna() to remove null values"
   ]
  },
  {
   "cell_type": "code",
   "execution_count": 37,
   "metadata": {},
   "outputs": [
    {
     "name": "stdout",
     "output_type": "stream",
     "text": [
      "<class 'pandas.core.frame.DataFrame'>\n",
      "RangeIndex: 10866 entries, 0 to 10865\n",
      "Data columns (total 5 columns):\n",
      "0    9836 non-null object\n",
      "1    6396 non-null object\n",
      "2    3816 non-null object\n",
      "3    2053 non-null object\n",
      "4    1126 non-null object\n",
      "dtypes: object(5)\n",
      "memory usage: 424.5+ KB\n"
     ]
    }
   ],
   "source": [
    "studios = df.production_companies.str.split('|', expand = True)\n",
    "MAX_STUDIOS = 5\n",
    "prod_comps_df = pd.DataFrame(index=range(MAX_STUDIOS * len(df)), columns=['production_company', 'profit_adj'])\n",
    "studios.info()"
   ]
  },
  {
   "cell_type": "code",
   "execution_count": 38,
   "metadata": {},
   "outputs": [],
   "source": [
    "for c in range(len(df)):\n",
    "    for i in range(MAX_STUDIOS):\n",
    "        prod_comps_df['production_company'][c*MAX_STUDIOS + i] = studios.iloc[c, i]\n",
    "        prod_comps_df['profit_adj'][c*MAX_STUDIOS + i] = df['profit_adj'][c]"
   ]
  },
  {
   "cell_type": "markdown",
   "metadata": {},
   "source": [
    "### Drop rows with null values and convert column 'profit_adj' to datatype float"
   ]
  },
  {
   "cell_type": "code",
   "execution_count": 39,
   "metadata": {},
   "outputs": [],
   "source": [
    "prod_comps_df = prod_comps_df.dropna()\n",
    "prod_comps_df['profit_adj'] = prod_comps_df['profit_adj'].astype(float)"
   ]
  },
  {
   "cell_type": "markdown",
   "metadata": {},
   "source": [
    "### Plot scatterplot of number of movies per production company and the average profit per film of those companies. Use the groupby function to get the result by each individual production company"
   ]
  },
  {
   "cell_type": "markdown",
   "metadata": {},
   "source": [
    "> Line on plot indicates line of best fit"
   ]
  },
  {
   "cell_type": "code",
   "execution_count": 42,
   "metadata": {
    "scrolled": true
   },
   "outputs": [
    {
     "data": {
      "text/plain": [
       "Text(0.5,1,'Number of movies in database per production company by average profit per movie')"
      ]
     },
     "execution_count": 42,
     "metadata": {},
     "output_type": "execute_result"
    },
    {
     "data": {
      "image/png": "[encoded data removed]",
      "text/plain": [
       "<matplotlib.figure.Figure at 0x7f002c0e52b0>"
      ]
     },
     "metadata": {
      "needs_background": "light"
     },
     "output_type": "display_data"
    }
   ],
   "source": [
    "plt.subplots(figsize = (7,7))\n",
    "plt.scatter(prod_comps_df.groupby('production_company').production_company.count().values, \n",
    "            prod_comps_df.groupby('production_company').profit_adj.mean())\n",
    "plt.plot(np.unique(prod_comps_df.groupby('production_company').production_company.count().values), \n",
    "         np.poly1d(np.polyfit(prod_comps_df.groupby('production_company').production_company.count().values,\n",
    "                              prod_comps_df.groupby('production_company').profit_adj.mean()\n",
    "                              , 1))(np.unique(prod_comps_df.groupby('production_company').production_company.count().values)))\n",
    "plt.xlabel('number of movies per production company')\n",
    "plt.ylabel('Average profit per movie (dollars in billions)')\n",
    "plt.title('Number of movies in database per production company by average profit per movie')"
   ]
  },
  {
   "cell_type": "markdown",
   "metadata": {},
   "source": [
    "> As the plot indicates, my initial hypothesis that there was positive correlation between the number of movies a production company has made and the average profit per movie is not well-supported by this data. The line of best fit indicates at best a very weak correlation between these two variables"
   ]
  },
  {
   "cell_type": "markdown",
   "metadata": {},
   "source": [
    "<a id='conclusions'></a>\n",
    "## Conclusions\n",
    "\n",
    "### Shortcomings of the Dataset, subsequent analysis\n",
    ">- While a 10500 movie sample is sizable and includes some of the most recent popular movies, it may not be indicative of the 100's of thousands of movies that have been released in the real world. Also, since were likely missing a crucial piece of financial informationn (budget or revenue) in over 50% of the data, visualizations and analysis including the adjusted profit variable may not be entirely accurate\n",
    "\n",
    "### Average profit by Adaptations\n",
    ">- Films based on novels, plays, and comics were significantly more profitable on average than the average movie in the 'The Movie Database', while movies based on video games typically lost money\n",
    "\n",
    "### Average rating by Adaptations\n",
    ">- While most adaptations' average rating is very similar to the overall average, films based on video games were rated lower\n",
    "\n",
    "### Popularity by Adaptations\n",
    ">- While films based on plays typically earned a high average profit and rating, they appeared to be less popular than the overall average of TMDb. Movies based on novels, comics, and tv series were more popular on average than the overall film popularity mean\n",
    "\n",
    "### Production company movie count and mean profit correlation\n",
    ">- I was unable to detect a definable positive correlation between company movie count and mean profit in this dataset. The line of best fit does not indicate a very strong positive or negative correlation between these two variables\n"
   ]
  }
 ],
 "metadata": {
  "kernelspec": {
   "display_name": "Python 3",
   "language": "python",
   "name": "python3"
  },
  "language_info": {
   "codemirror_mode": {
    "name": "ipython",
    "version": 3
   },
   "file_extension": ".py",
   "mimetype": "text/x-python",
   "name": "python",
   "nbconvert_exporter": "python",
   "pygments_lexer": "ipython3",
   "version": "3.6.3"
  }
 },
 "nbformat": 4,
 "nbformat_minor": 2
}
